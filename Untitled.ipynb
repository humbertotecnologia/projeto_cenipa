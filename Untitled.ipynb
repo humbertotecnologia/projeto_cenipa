{
 "cells": [
  {
   "cell_type": "markdown",
   "id": "560869d1-d000-4b0f-802d-154ecb08413c",
   "metadata": {},
   "source": [
    "# Python\n",
    "\n",
    "Python é uma linguagem de programação criado pelo matemático holandês Guido Van Rossum em 1991. Suporta o paradigma orientado a objetos, imperativo, funcional e procedural. Possui tipagem dinâmica e uma de suas principais características é permitir a fácil leitura do código e exigir poucas linhas de código se comparado ao mesmo programa em outras linguagens. Devido às suas características, ela é utilizada, principalmente, para processamento de textos, dados científicos e criação de CGIs para páginas dinâmicas para a web. \n",
    "\n",
    "A linguagem foi projetada com a filosofia de enfatizar a importância do esforço do programador sobre o esforço computacional. Prioriza a legibilidade do código sobre a velocidade ou expressividade. Combina uma sintaxe concisa e clara com os recursos poderosos de sua biblioteca padrão e por módulos e frameworks desenvolvidos por terceiros.\n",
    "\n",
    "O Python melhorou muito os aspectos técnicos de linguagem, como: lidar com a memória do computador e melhor suporte para tipos de dados comuns (listas e strings de caracteres). A equipe de desenvolvimento Python também trabalhou duro para abrir o Python a toda uma comunidade de desenvolvedores que poderia ajudar a melhorar a linguagem e a implementação.\n",
    "\n",
    "Você pode facilmente substituir suas fórmulas Excel por algumas linhas rápidas de código Python e conseguir muito rapidamente retirar insights e análises muito mais precisas dos seus dados e informações que necessita para realizar seu trabalho da melhor forma possível.\n",
    "\n",
    "Hoje em dia, as empresas que utilizam Python como linguagem de programação são: Google, Spotify, Instagram, Dropbox, Nasa, Eletronic Arts, Disney, entre outras.\n",
    "\n",
    "Além disso, ele pode também ser utilizado em aplicações web, aplicações Android, aplicações GUI, jogos, aplicações cientificas, aplicações de administração de sistemas, aplicações de consoles e outros.\n"
   ]
  },
  {
   "cell_type": "markdown",
   "id": "8cac8672-1f17-4901-8f14-7ebc446a9bc8",
   "metadata": {},
   "source": [
    "# Pandas\n",
    "Pandas é uma biblioteca de software criada para a linguagem Python para manipulação e análise de dados. Em particular, oferece estruturas e operações para manipular tabelas numéricas e séries temporais.\n",
    "Pandas é principalmente usado para Machine Learning (Aprendizado de Máquina), pela facilidade que o objeto DataFrames oferece. Permite a importação de diferentes formatos de arquivo, como CSV e Excel para a leitura em DataFrames. Facilita diversas operações de álgebra relacional, projeção, junção, concatenação, e funções de limpeza, do tipo substituição ou inserção de valores nulos (null).\n",
    "\n",
    " É muito mais fácil trabalhar com um objeto do Pandas, do que reunir informações por meio de interações de listas e dicionários Python. Para colaborar ainda mais, no seu site a biblioteca ainda disponibiliza uma lista de comandos para que desenvolvedores que utilizam outras linguagens, como R, SQL, SAS, entre outros, possam encontrar os comandos equivalentes, com a mesma funcionalidade no Pandas.\n",
    " \n",
    "Na biblioteca Pandas, há suporte para alinhamento automático ou explícito dos dados, tratamento flexível e simplificado de dados ausentes, combinações e operações relacionais, informações estatísticas, séries temporais, visualização de dados e documentação.\n",
    "\n",
    "Resumidamente o Pandas têm:\n",
    "\n",
    "- Os objetos explicitamente alinhados com eixos nomeados, que o usuário pode ou não especificar. Evitando erros comuns de dados desalinhados e possibilitando trabalhar com dados que apresentem indexações diferentes. \n",
    "- Substituição ou exclusão de dados ausentes que o conjunto de dados que estamos trabalhando pode apresentar.\n",
    "- Métodos para facilitar a combinação de conjuntos de dados, além de permitir selecionar subconjuntos dos nossos dados originais, com base em determinados filtros;\n",
    "- Informações estatísticas sobre os valores armazenados, como média, mediana, desvio padrão, entre outros.\n",
    "- Fornece um conjunto de recursos para criar e trabalhar com dados indexados por tempo, por ter sido inicialmente projetada para utilização no setor financeiro e de análise de negócios.\n",
    "- Pandas engloba algumas funcionalidades da biblioteca Matplotlib. Permitindo que os usuários criem visualizações simplificadas dos dados. Embora ela apresente limitação de métodos nesse escopo de visualização. Quando comparada com a Matplotlib, ainda é uma funcionalidade muito útil para exploração rápida dos dados;\n",
    "- Fornece uma rica explicação das estruturas e métodos possíveis de serem aplicadas, descrevendo as funcionalidades e parâmetros existentes. Apresenta exemplos de utilização, além de métodos que podem estar relacionados ao método pesquisado.\n",
    "\n",
    "A vantagem de a biblioteca Pandas aparecer como quarto colocado na lista de ferramentas e pacotes que os desenvolvedores profissionais utilizam é que quanto mais desenvolvedores utilizam uma biblioteca, mais facilidade temos de encontrar soluções para problemas disponíveis na rede, ou, se existir algum bug no pacote, ou em algum método dele, ele ser corrigido mais rapidamente. \n"
   ]
  },
  {
   "cell_type": "markdown",
   "id": "c18103a6-d590-4c58-a737-0a3eca9b2988",
   "metadata": {},
   "source": [
    "# Matplotlib\n",
    "\n",
    "Ao utilizarmos a linguagem Python, temos como uma das principais vantagens a facilidade de controle e visualização de dados, onde podemos destacar a biblioteca Matplotlib.\n",
    "\n",
    "Desenvolvida por John D. Hunter, a Matplotlib tem como objetivo criar gráficos para a demonstração de dados visualmente, já que é muito mais fácil ter uma análise feita através de gráficos do que analisando dado por dado. Por exemplo, se um dono de uma loja necessita ver sua progressão de vendas de mês X até mês Y, com um gráfico simplificando essa visualização ele terá uma análise mais rápida e ágil.\n",
    "\n",
    "Na biblioteca é possível ser feito outros tipos de gráficos além do convencional gráfico de linhas, como: gráficos de barras com “bar()” ou “barh()“ para barras horizontais; e gráficos de pizza com “pie()“. \n",
    "\n",
    "Também é possível detalhar mais o gráfico colocando título, nomeando os eixos, alterando cores de linhas, de fundo, das barras, entre outras alterações. \n",
    "\n",
    "Por fim, vale ressaltar que graças a ferramentas como o Matplotlib que o Python se destaca entre os cientistas de dados, já que a manipulação de dados fica muita mais fácil quando o utilizamos. \n"
   ]
  },
  {
   "cell_type": "markdown",
   "id": "9322e5e6-fdf2-405c-8b1f-e4a5941fc5e9",
   "metadata": {},
   "source": [
    "HTTPS://WWW.ALURA.COM.BR/ARTIGOS/CRIANDO-GRAFICOS-NO-PYTHON-COM-A-MATPLOTLIB\n",
    "HTTPS://WWW.VOITTO.COM.BR/BLOG/ARTIGO/O-QUE-E-PYTHON-MATPLOTLIB\n",
    "HTTPS://HARVE.COM.BR/BLOG/PROGRAMACAO-PYTHON-BLOG/PANDAS-PYTHON-VANTAGENS-E-COMO-COMECAR/\n"
   ]
  },
  {
   "cell_type": "markdown",
   "id": "3a2f6e89-fb38-41c9-a58e-a8836dbeb0a8",
   "metadata": {},
   "source": [
    "# Código do Projeto\n",
    "\n",
    "Bibliotecas importadas:"
   ]
  },
  {
   "cell_type": "code",
   "execution_count": 1,
   "id": "bf2958b3-71c7-4178-974e-1be6163fa535",
   "metadata": {},
   "outputs": [],
   "source": [
    "import pandas as pd\n",
    "import matplotlib.pyplot as plt"
   ]
  },
  {
   "cell_type": "markdown",
   "id": "3d850715-c716-46ee-9b60-ecc6848cd14c",
   "metadata": {},
   "source": [
    "## Importação do dataset"
   ]
  },
  {
   "cell_type": "code",
   "execution_count": 2,
   "id": "705a7fba-ae56-4e5a-8419-fa3da8671b6c",
   "metadata": {},
   "outputs": [],
   "source": [
    "dados = pd.read_csv(\"ocorrencias_cenipa.csv\", sep=';', encoding='ISO-8859-1').convert_dtypes()"
   ]
  },
  {
   "cell_type": "markdown",
   "id": "340d4199-66a7-4e7a-88d3-dfa55b0ea05c",
   "metadata": {},
   "source": [
    "## Distribuição das falhas em voo por ano"
   ]
  },
  {
   "cell_type": "code",
   "execution_count": 3,
   "id": "4fec1981-26cd-445d-bd79-e50aedd2b817",
   "metadata": {},
   "outputs": [
    {
     "data": {
      "text/plain": [
       "2014    74\n",
       "2010    71\n",
       "2012    71\n",
       "2013    71\n",
       "2015    65\n",
       "2019    65\n",
       "2011    63\n",
       "2016    57\n",
       "2018    50\n",
       "2017    45\n",
       "Name: ano, dtype: Int64"
      ]
     },
     "execution_count": 3,
     "metadata": {},
     "output_type": "execute_result"
    }
   ],
   "source": [
    "dados[dados[\"descricao\"] == 'FALHA DO MOTOR EM VOO']['ano'].value_counts()"
   ]
  },
  {
   "cell_type": "code",
   "execution_count": 4,
   "id": "d36fa4dc-9e0a-4c64-8b7f-c698ddde08f7",
   "metadata": {},
   "outputs": [
    {
     "data": {
      "image/png": "[encoded data removed]",
      "text/plain": [
       "<Figure size 432x288 with 1 Axes>"
      ]
     },
     "metadata": {
      "needs_background": "light"
     },
     "output_type": "display_data"
    }
   ],
   "source": [
    "dados[dados[\"descricao\"] == 'FALHA DO MOTOR EM VOO']['ano'].value_counts().plot.bar();"
   ]
  },
  {
   "cell_type": "markdown",
   "id": "3020b529-66f8-4d63-8e0b-fd7d7505d573",
   "metadata": {},
   "source": [
    "Esta extração de dados tem como objetivo a quantificação e visualização da tendência "
   ]
  },
  {
   "cell_type": "markdown",
   "id": "0f613b55-47ab-4269-a325-eedb9965c2af",
   "metadata": {},
   "source": [
    "## Ranking de Fabricantes com mais falhas"
   ]
  },
  {
   "cell_type": "code",
   "execution_count": 5,
   "id": "8615b0f5-ea80-4b63-a034-fa9dae3479b3",
   "metadata": {},
   "outputs": [
    {
     "data": {
      "text/plain": [
       "CESSNA AIRCRAFT                800\n",
       "EMBRAER                        589\n",
       "NEIVA INDUSTRIA AERONAUTICA    583\n",
       "PIPER AIRCRAFT                 373\n",
       "INDETERMINADO                  286\n",
       "                              ... \n",
       "JOSE MAINHARDT                   1\n",
       "AIRBUS                           1\n",
       "FRANCISCO BRAGANTE JUNIOR        1\n",
       "PAULO R. M. MAIA                 1\n",
       "MARCO AURELIO M. DE SOUSA        1\n",
       "Name: aeronave_fabricante, Length: 223, dtype: Int64"
      ]
     },
     "execution_count": 5,
     "metadata": {},
     "output_type": "execute_result"
    }
   ],
   "source": [
    "dados['aeronave_fabricante'].value_counts()"
   ]
  },
  {
   "cell_type": "markdown",
   "id": "df57443a-9fbe-40e7-bc42-3e898867ab46",
   "metadata": {},
   "source": [
    "Estes dados servem para analisar o fabricante com maior numero de ocorrencias."
   ]
  },
  {
   "cell_type": "markdown",
   "id": "6dcf4f87-267d-4508-9a1a-fca3dcb5f879",
   "metadata": {},
   "source": [
    "## Quantidades de tipos de ocorrencias por que não estão finalizadas"
   ]
  },
  {
   "cell_type": "code",
   "execution_count": 6,
   "id": "386e923b-936d-4704-be09-f9d75743a5dc",
   "metadata": {},
   "outputs": [
    {
     "data": {
      "text/plain": [
       "tipo             status_investigacao\n",
       "ACIDENTE         ATIVA                  578\n",
       "                 INDETERMINADA          231\n",
       "INCIDENTE        ATIVA                   41\n",
       "                 INDETERMINADA           33\n",
       "INCIDENTE GRAVE  ATIVA                  197\n",
       "                 INDETERMINADA           96\n",
       "Name: status_investigacao, dtype: int64"
      ]
     },
     "execution_count": 6,
     "metadata": {},
     "output_type": "execute_result"
    }
   ],
   "source": [
    "dados[dados['status_investigacao'] != 'FINALIZADA'].groupby('tipo')['status_investigacao'].value_counts()"
   ]
  },
  {
   "cell_type": "markdown",
   "id": "b0eeacee-f4c4-4872-a1c9-7ad1ce412827",
   "metadata": {},
   "source": [
    "Verificação de quantas ocorrencias não estão finalizadas para verificar quais seriam as prioridades de investigação."
   ]
  },
  {
   "cell_type": "markdown",
   "id": "9be07beb-f80c-4a60-bfdd-c279871ec3c8",
   "metadata": {},
   "source": [
    "## Quais modelos foram mais destruidos entre 2010 e 2019 por tipo de motor"
   ]
  },
  {
   "cell_type": "code",
   "execution_count": 7,
   "id": "bd31ee7b-8bda-4a9f-a010-6dc8c42391bf",
   "metadata": {},
   "outputs": [
    {
     "data": {
      "text/plain": [
       "ano   motor_tipo   \n",
       "2010  PISTÃO           26\n",
       "      TURBOEIXO         3\n",
       "      TURBOÉLICE        3\n",
       "2011  PISTÃO           32\n",
       "      TURBOEIXO         5\n",
       "      TURBOÉLICE        4\n",
       "      SEM TRAÇÃO        1\n",
       "2012  PISTÃO           38\n",
       "      TURBOÉLICE        6\n",
       "      TURBOEIXO         2\n",
       "2013  PISTÃO           29\n",
       "      TURBOEIXO         5\n",
       "      TURBOÉLICE        4\n",
       "2014  PISTÃO           27\n",
       "      INDETERMINADO     2\n",
       "      TURBOEIXO         2\n",
       "      JATO              1\n",
       "      TURBOÉLICE        1\n",
       "2015  PISTÃO           22\n",
       "      INDETERMINADO     4\n",
       "      TURBOEIXO         4\n",
       "      TURBOÉLICE        2\n",
       "      JATO              1\n",
       "2016  PISTÃO           24\n",
       "      TURBOEIXO         3\n",
       "      TURBOÉLICE        3\n",
       "      INDETERMINADO     2\n",
       "2017  PISTÃO           14\n",
       "      INDETERMINADO     4\n",
       "      TURBOEIXO         2\n",
       "      TURBOÉLICE        2\n",
       "2018  PISTÃO           21\n",
       "      TURBOEIXO         4\n",
       "      TURBOÉLICE        2\n",
       "      INDETERMINADO     1\n",
       "      SEM TRAÇÃO        1\n",
       "2019  PISTÃO           13\n",
       "      INDETERMINADO     4\n",
       "      TURBOEIXO         3\n",
       "      JATO              1\n",
       "      TURBOÉLICE        1\n",
       "Name: motor_tipo, dtype: int64"
      ]
     },
     "execution_count": 7,
     "metadata": {},
     "output_type": "execute_result"
    }
   ],
   "source": [
    "dados[dados['aeronave_nivel_dano'] == 'DESTRUÍDA'].groupby('ano')['motor_tipo'].value_counts()"
   ]
  },
  {
   "cell_type": "markdown",
   "id": "a60eaacd-e765-445c-b7fd-843c62b68012",
   "metadata": {},
   "source": [
    "## Classificação das Ocorrências"
   ]
  },
  {
   "cell_type": "code",
   "execution_count": 8,
   "id": "1087578d-8f79-457d-8579-e8b42fcafdb7",
   "metadata": {},
   "outputs": [
    {
     "data": {
      "text/plain": [
       "Text(0.5, 0, 'Classificação')"
      ]
     },
     "execution_count": 8,
     "metadata": {},
     "output_type": "execute_result"
    },
    {
     "data": {
      "image/png": "[encoded data removed]",
      "text/plain": [
       "<Figure size 432x288 with 1 Axes>"
      ]
     },
     "metadata": {
      "needs_background": "light"
     },
     "output_type": "display_data"
    }
   ],
   "source": [
    "dados['tipo'].value_counts().plot.bar(color='blue')\n",
    "plt.xticks(rotation='horizontal')\n",
    "plt.ylabel('Quantidade', fontsize=15)\n",
    "plt.xlabel('Classificação', fontsize=15)"
   ]
  },
  {
   "cell_type": "code",
   "execution_count": 9,
   "id": "0c2dd0f2-3e9b-4af5-b869-4c69da5325fb",
   "metadata": {},
   "outputs": [
    {
     "data": {
      "text/plain": [
       "INCIDENTE          2887\n",
       "ACIDENTE           1694\n",
       "INCIDENTE GRAVE     661\n",
       "Name: tipo, dtype: Int64"
      ]
     },
     "execution_count": 9,
     "metadata": {},
     "output_type": "execute_result"
    }
   ],
   "source": [
    "dados['tipo'].value_counts()"
   ]
  },
  {
   "cell_type": "markdown",
   "id": "7d09a9a8-cf4f-4b95-b56d-c29b9a27c4e8",
   "metadata": {},
   "source": [
    "## Unidades Federativas com Ocorrências"
   ]
  },
  {
   "cell_type": "code",
   "execution_count": 10,
   "id": "15a855ce-2b8b-4e7c-9c70-d2b176930c83",
   "metadata": {},
   "outputs": [
    {
     "data": {
      "text/plain": [
       "<StringArray>\n",
       "['PA', 'PR', 'MS', 'GO', 'RS', 'MG', 'AM', 'TO', 'RJ', 'AC', 'SP', 'SC', 'MT',\n",
       " 'BA', 'PE', 'DF', 'CE', 'ES', 'MA', 'RR', 'AP', 'AL', 'RO', 'SE', 'PB', 'PI',\n",
       " 'RN']\n",
       "Length: 27, dtype: string"
      ]
     },
     "execution_count": 10,
     "metadata": {},
     "output_type": "execute_result"
    }
   ],
   "source": [
    "dados['estado'].unique()"
   ]
  },
  {
   "cell_type": "markdown",
   "id": "1d2b0730-394d-4ec4-bdcd-2a0856d0b7a7",
   "metadata": {},
   "source": [
    "## Ocorrências por Região"
   ]
  },
  {
   "cell_type": "code",
   "execution_count": 11,
   "id": "73dd044a-7db4-405c-a9a5-c4395b1bb70d",
   "metadata": {},
   "outputs": [
    {
     "name": "stdout",
     "output_type": "stream",
     "text": [
      "Ocorrencias do sudeste: 2271\n",
      "Ocorrencias do nordeste: 560\n",
      "Ocorrencias do centro-oeste: 802\n",
      "Ocorrencias do norte: 668\n",
      "Ocorrencias do sul: 941\n"
     ]
    }
   ],
   "source": [
    "dados_sul = dados.loc[dados['estado'].isin(['RS', 'SC', 'PR'])]\n",
    "dados_sudeste = dados.loc[dados['estado'].isin(['SP', 'MG', 'ES', 'RJ'])]\n",
    "dados_norte = dados.loc[dados['estado'].isin(['AC', 'RO', 'AM', 'RR', 'PA', 'TO', 'AP'])]\n",
    "dados_nordeste = dados.loc[dados['estado'].isin(['MA', 'PI', 'BA', 'CE', 'PE', 'SE', 'AL', 'PB', 'RN'])]\n",
    "dados_centro_oeste = dados.loc[dados['estado'].isin(['MS', 'MT', 'GO', 'DF'])]\n",
    "print('Ocorrencias do sudeste:',dados_sudeste['tipo'].count())\n",
    "print('Ocorrencias do nordeste:',dados_nordeste['tipo'].count())\n",
    "print('Ocorrencias do centro-oeste:',dados_centro_oeste['tipo'].count())\n",
    "print('Ocorrencias do norte:',dados_norte['tipo'].count())\n",
    "print('Ocorrencias do sul:',dados_sul['tipo'].count())"
   ]
  },
  {
   "cell_type": "markdown",
   "id": "cf9f1377-000a-4824-a585-27a4a45b4206",
   "metadata": {},
   "source": [
    "Exemplo de relatório com filtro de dados"
   ]
  },
  {
   "cell_type": "markdown",
   "id": "77cf5802-b47e-489b-9e3b-f719da569d3f",
   "metadata": {},
   "source": [
    "## Criação de uma coluna no dataset com dados processados e agrupados por região"
   ]
  },
  {
   "cell_type": "code",
   "execution_count": 12,
   "id": "fc636291-ee4d-4260-8afc-01cea91366f4",
   "metadata": {},
   "outputs": [],
   "source": [
    "dados['regiao'] = ''\n",
    "dados.loc[dados_sul.index, 'regiao'] = 'Sul'\n",
    "dados.loc[dados_sudeste.index, 'regiao'] = 'Sudeste'\n",
    "dados.loc[dados_norte.index, 'regiao'] = 'Norte'\n",
    "dados.loc[dados_nordeste.index, 'regiao'] = 'Nordeste'\n",
    "dados.loc[dados_centro_oeste.index, 'regiao'] = 'Centro-Oeste'"
   ]
  },
  {
   "cell_type": "code",
   "execution_count": 13,
   "id": "b3381c22-7864-4dbe-a470-f8a5eac5ddff",
   "metadata": {},
   "outputs": [
    {
     "data": {
      "text/plain": [
       "Text(0.5, 0, 'Região')"
      ]
     },
     "execution_count": 13,
     "metadata": {},
     "output_type": "execute_result"
    },
    {
     "data": {
      "image/png": "[encoded data removed]",
      "text/plain": [
       "<Figure size 432x288 with 1 Axes>"
      ]
     },
     "metadata": {
      "needs_background": "light"
     },
     "output_type": "display_data"
    }
   ],
   "source": [
    "dados['regiao'].value_counts().plot.bar(color='blue')\n",
    "plt.xticks(rotation='horizontal')\n",
    "plt.ylabel('Quantidade', fontsize=15)\n",
    "plt.xlabel('Região', fontsize=15)"
   ]
  },
  {
   "cell_type": "code",
   "execution_count": 14,
   "id": "8eb9c41d-2d06-4273-9c21-0ecc9d2946a2",
   "metadata": {},
   "outputs": [
    {
     "data": {
      "text/plain": [
       "Text(0.5, 0, 'Classificação da Região Sudeste')"
      ]
     },
     "execution_count": 14,
     "metadata": {},
     "output_type": "execute_result"
    },
    {
     "data": {
      "image/png": "[encoded data removed]",
      "text/plain": [
       "<Figure size 432x288 with 1 Axes>"
      ]
     },
     "metadata": {
      "needs_background": "light"
     },
     "output_type": "display_data"
    }
   ],
   "source": [
    "dados_sudeste['tipo'].value_counts().plot.bar(color='blue')\n",
    "plt.xticks(rotation='horizontal')\n",
    "plt.ylabel('Quantidade', fontsize=15)\n",
    "plt.xlabel('Classificação da Região Sudeste', fontsize=15)"
   ]
  },
  {
   "cell_type": "code",
   "execution_count": 15,
   "id": "44719659-f8b9-4a90-9989-b6a2a4c400f8",
   "metadata": {},
   "outputs": [
    {
     "data": {
      "text/plain": [
       "Text(0.5, 0, 'Ocorrencias por UFs da Região Sudeste')"
      ]
     },
     "execution_count": 15,
     "metadata": {},
     "output_type": "execute_result"
    },
    {
     "data": {
      "image/png": "[encoded data removed]",
      "text/plain": [
       "<Figure size 432x288 with 1 Axes>"
      ]
     },
     "metadata": {
      "needs_background": "light"
     },
     "output_type": "display_data"
    }
   ],
   "source": [
    "dados_sudeste['estado'].value_counts().plot.bar(color='blue')\n",
    "plt.xticks(rotation='horizontal')\n",
    "plt.ylabel('Quantidade', fontsize=15)\n",
    "plt.xlabel('Ocorrencias por UFs da Região Sudeste', fontsize=15)"
   ]
  },
  {
   "cell_type": "markdown",
   "id": "892254b1-b80b-4b69-9100-1d81acd31dc2",
   "metadata": {},
   "source": [
    "# Conclusões Finais"
   ]
  },
  {
   "cell_type": "markdown",
   "id": "7af229d6-aac9-4c98-9384-d70f5eb3c3eb",
   "metadata": {},
   "source": [
    "- A maior parte das ocorrências com investigação não Finalizada, são do tipo Acidente, dentre estes, a maioria das ocorrências tem o status de Ativa\n",
    "- Em todos os anos as aeronaves com motor a pistão foram as com a maior quantidade de ocorrências com resultado destruição da aeronave\n",
    "- Região sudeste contém a maior parte das ocorrências do país\n",
    "- Dentro da região sudeste a UF com mais ocorrências é São Paulo\n",
    "- O tipo mais comum de ocorrência na região sudeste (A região com mais ocorrências) é Incidente"
   ]
  },
  {
   "cell_type": "code",
   "execution_count": null,
   "id": "1bd03bf1-e0cd-4b7a-87d3-4da47aa5f8be",
   "metadata": {},
   "outputs": [],
   "source": []
  }
 ],
 "metadata": {
  "kernelspec": {
   "display_name": "Python 3 (ipykernel)",
   "language": "python",
   "name": "python3"
  },
  "language_info": {
   "codemirror_mode": {
    "name": "ipython",
    "version": 3
   },
   "file_extension": ".py",
   "mimetype": "text/x-python",
   "name": "python",
   "nbconvert_exporter": "python",
   "pygments_lexer": "ipython3",
   "version": "3.9.9"
  }
 },
 "nbformat": 4,
 "nbformat_minor": 5
}
